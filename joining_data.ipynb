{
 "cells": [
  {
   "cell_type": "markdown",
   "id": "7dcb4217",
   "metadata": {},
   "source": [
    "## Joining the 3 manually annotated data sets by majority voting for both category and sentiment annotations"
   ]
  },
  {
   "cell_type": "code",
   "execution_count": 4,
   "id": "46484d1b",
   "metadata": {},
   "outputs": [],
   "source": [
    "import pandas as pd"
   ]
  },
  {
   "cell_type": "code",
   "execution_count": 5,
   "id": "06747f91",
   "metadata": {},
   "outputs": [],
   "source": [
    "# Loading all 3 tsv files and creating a 'final' df for merged data\n",
    "\n",
    "df_a = pd.read_csv('data/scraped/annotated-alon.tsv', delimiter='\\t')\n",
    "df_h = pd.read_csv('data/scraped/annotated-hugo.tsv', delimiter='\\t')\n",
    "df_l = pd.read_csv('data/scraped/annotated-luca.tsv', delimiter='\\t')\n",
    "\n",
    "df_a = df_a[['text','sentiment', 'category']]\n",
    "df_a = df_a[0:750]\n",
    "\n",
    "df_h = df_h[['text','sentiment', 'category']]\n",
    "df_h = df_h[0:750]\n",
    "\n",
    "df_l = df_l[['text','sentiment', 'category']]\n",
    "df_l = df_l[0:750]\n",
    "\n",
    "df = df_a.copy(deep=True)"
   ]
  },
  {
   "cell_type": "code",
   "execution_count": 6,
   "id": "abc21601",
   "metadata": {},
   "outputs": [],
   "source": [
    "# compare sentiment\n",
    "\n",
    "for index, row in df.iterrows():\n",
    "    \n",
    "    if df_a.loc[index, 'sentiment'] == df_h.loc[index, 'sentiment']:\n",
    "        df.loc[index, 'sentiment'] = df_a.loc[index, 'sentiment']\n",
    "        \n",
    "    elif df_a.loc[index, 'sentiment'] == df_l.loc[index, 'sentiment']:\n",
    "        df.loc[index, 'sentiment'] = df_a.loc[index, 'sentiment']\n",
    "        \n",
    "    elif df_h.loc[index, 'sentiment'] == df_l.loc[index, 'sentiment']:\n",
    "        df.loc[index, 'sentiment'] = df_h.loc[index, 'sentiment']\n",
    "    \n",
    "    else:\n",
    "        df.loc[index, 'sentiment'] = 'Neutral'\n",
    "\n",
    "\n",
    "# compare category\n",
    "\n",
    "for index, row in df.iterrows():\n",
    "    \n",
    "    if df_a.loc[index, 'category'] == df_h.loc[index, 'category']:\n",
    "        df.loc[index, 'category'] = df_a.loc[index, 'category']\n",
    "        \n",
    "    elif df_a.loc[index, 'category'] == df_l.loc[index, 'category']:\n",
    "        df.loc[index, 'category'] = df_a.loc[index, 'category']\n",
    "        \n",
    "    elif df_h.loc[index, 'category'] == df_l.loc[index, 'category']:\n",
    "        df.loc[index, 'category'] = df_h.loc[index, 'category']\n",
    "    \n",
    "    # if there's no agreement and at least one annotator annotated tweet for removal, keep 'Remove' annotation\n",
    "    elif df_h.loc[index, 'category'] == 'Remove' or df_l.loc[index, 'category'] == 'Remove' or df_a.loc[index, 'category'] == 'Remove':\n",
    "        df.loc[index, 'category'] = 'Remove'\n",
    "    else:\n",
    "        df.loc[index, 'category'] = ''\n",
    "\n",
    "\n",
    "# Remove all tweets marked for removal\n",
    "df = df[~(df['category'] == 'Remove')]\n"
   ]
  },
  {
   "cell_type": "code",
   "execution_count": 12,
   "id": "94a49867",
   "metadata": {},
   "outputs": [
    {
     "name": "stdout",
     "output_type": "stream",
     "text": [
      "Merged df length: 720\n",
      "\n",
      "Number of disagreements in our annotations: 22\n",
      "\n",
      "Estimated annotation diagreement on original data set (1050 tweets): 31.30081300813008\n"
     ]
    }
   ],
   "source": [
    "print('Merged df length:', len(df))\n",
    "print('\\nNumber of disagreements in our annotations:', len(df[df['category'] == '']))\n",
    "print('\\nEstimated annotation diagreement on original data set (1050 tweets):', len(df[df['category'] == '']) * 1050 / 738)\n",
    "#print(df[df['category'] == ''])"
   ]
  },
  {
   "cell_type": "markdown",
   "id": "ffbc602b",
   "metadata": {},
   "source": [
    "# Some checks"
   ]
  },
  {
   "cell_type": "code",
   "execution_count": 14,
   "id": "72897c68",
   "metadata": {},
   "outputs": [
    {
     "name": "stdout",
     "output_type": "stream",
     "text": [
      "Informative posts\n",
      "Critique and opinions\n",
      "Jokes and sarcasm\n"
     ]
    }
   ],
   "source": [
    "# index of a tweet with category disagreement\n",
    "index = 527\n",
    "print(df_a.loc[index,'category'])\n",
    "print(df_l.loc[index,'category'])\n",
    "print(df_h.loc[index,'category'])\n",
    "\n",
    "# Indeed all 3 annotators chose a different category"
   ]
  },
  {
   "cell_type": "code",
   "execution_count": 12,
   "id": "634e7b1f",
   "metadata": {},
   "outputs": [
    {
     "data": {
      "text/plain": [
       "22"
      ]
     },
     "execution_count": 12,
     "metadata": {},
     "output_type": "execute_result"
    }
   ],
   "source": [
    "# How many tweets will have to be annotated again by a discussion vote\n",
    "\n",
    "len(df[df['category'] == ''])"
   ]
  },
  {
   "cell_type": "code",
   "execution_count": 13,
   "id": "ddcc54f1",
   "metadata": {},
   "outputs": [],
   "source": [
    "# save merged data into a new tsv file\n",
    "\n",
    "#df.to_csv('merged_data.tsv', sep='\\t')"
   ]
  },
  {
   "cell_type": "code",
   "execution_count": null,
   "id": "c4e5caa9",
   "metadata": {},
   "outputs": [],
   "source": []
  }
 ],
 "metadata": {
  "kernelspec": {
   "display_name": "Python 3 (ipykernel)",
   "language": "python",
   "name": "python3"
  },
  "language_info": {
   "codemirror_mode": {
    "name": "ipython",
    "version": 3
   },
   "file_extension": ".py",
   "mimetype": "text/x-python",
   "name": "python",
   "nbconvert_exporter": "python",
   "pygments_lexer": "ipython3",
   "version": "3.9.7"
  }
 },
 "nbformat": 4,
 "nbformat_minor": 5
}
