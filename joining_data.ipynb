{
 "cells": [
  {
   "cell_type": "code",
   "execution_count": 4,
   "id": "46484d1b",
   "metadata": {},
   "outputs": [],
   "source": [
    "import pandas as pd"
   ]
  },
  {
   "cell_type": "code",
   "execution_count": 5,
   "id": "06747f91",
   "metadata": {},
   "outputs": [],
   "source": [
    "df_a = pd.read_csv('data/scraped/annotated-alon.tsv', delimiter='\\t')\n",
    "df_h = pd.read_csv('data/scraped/annotated-hugo.tsv', delimiter='\\t')\n",
    "df_l = pd.read_csv('data/scraped/annotated-luca.tsv', delimiter='\\t')\n",
    "\n",
    "df_a = df_a[['text','sentiment', 'category']]\n",
    "df_a = df_a[0:750]\n",
    "\n",
    "df_h = df_h[['text','sentiment', 'category']]\n",
    "df_h = df_h[0:750]\n",
    "\n",
    "df_l = df_l[['text','sentiment', 'category']]\n",
    "df_l = df_l[0:750]\n",
    "\n",
    "df = df_a.copy(deep=True)"
   ]
  },
  {
   "cell_type": "code",
   "execution_count": 6,
   "id": "abc21601",
   "metadata": {},
   "outputs": [],
   "source": [
    "# compare sentiment\n",
    "\n",
    "for index, row in df.iterrows():\n",
    "    \n",
    "    if df_a.loc[index, 'sentiment'] == df_h.loc[index, 'sentiment']:\n",
    "        df.loc[index, 'sentiment'] = df_a.loc[index, 'sentiment']\n",
    "        \n",
    "    elif df_a.loc[index, 'sentiment'] == df_l.loc[index, 'sentiment']:\n",
    "        df.loc[index, 'sentiment'] = df_a.loc[index, 'sentiment']\n",
    "        \n",
    "    elif df_h.loc[index, 'sentiment'] == df_l.loc[index, 'sentiment']:\n",
    "        df.loc[index, 'sentiment'] = df_h.loc[index, 'sentiment']\n",
    "    \n",
    "    else:\n",
    "        df.loc[index, 'sentiment'] = 'Neutral'\n",
    "\n",
    "\n",
    "# compare category\n",
    "\n",
    "for index, row in df.iterrows():\n",
    "    \n",
    "    if df_a.loc[index, 'category'] == df_h.loc[index, 'category']:\n",
    "        df.loc[index, 'category'] = df_a.loc[index, 'category']\n",
    "        \n",
    "    elif df_a.loc[index, 'category'] == df_l.loc[index, 'category']:\n",
    "        df.loc[index, 'category'] = df_a.loc[index, 'category']\n",
    "        \n",
    "    elif df_h.loc[index, 'category'] == df_l.loc[index, 'category']:\n",
    "        df.loc[index, 'category'] = df_h.loc[index, 'category']\n",
    "    \n",
    "    elif df_h.loc[index, 'category'] == 'Remove' or df_l.loc[index, 'category'] == 'Remove' or df_a.loc[index, 'category'] == 'Remove':\n",
    "        df.loc[index, 'category'] = 'Remove'\n",
    "    else:\n",
    "        df.loc[index, 'category'] = ''\n",
    "        \n",
    "df = df[~(df['category'] == 'Remove')]"
   ]
  },
  {
   "cell_type": "code",
   "execution_count": 7,
   "id": "94a49867",
   "metadata": {},
   "outputs": [
    {
     "name": "stdout",
     "output_type": "stream",
     "text": [
      "720\n",
      "22 31.30081300813008\n",
      "                                                  text sentiment category\n",
      "84   It was great to see Honourable Premier @jkenne...  Positive         \n",
      "178  @TheNewArena I wonder how many were the Covid ...   Neutral         \n",
      "199  @kahnkidz Are burning with all that covid in M...   Neutral         \n",
      "225  lol the federal government made me create an u...   Neutral         \n",
      "276  Just reserved tickets for Christmas Lights at ...  Positive         \n",
      "286  @Spooky_2001 @MidnightDevilZ I am *~*Canadian*...   Neutral         \n",
      "289  @That_NaijaGuy @bomba_chica @Audreyforshey @XV...  Negative         \n",
      "311  @salishsea86 It really is. We’re in for wild w...   Neutral         \n",
      "312  @colin_korol Justin, can we fight the new COVI...   Neutral         \n",
      "346  Did WHO name new COVID variant Omicron to avoi...   Neutral         \n",
      "365  @gtlem When I got my haircut only like a week ...   Neutral         \n",
      "394  @MMFlint will you please do a documentary on C...   Neutral         \n",
      "527  ‘South Park: Post COVID’ Skewers Anti-Vaxxers ...   Neutral         \n",
      "543  @ChristinaPushaw @ezralevant You put a muzzle ...  Negative         \n",
      "565  Vaccinations go up, COVID numbers go down. Wha...   Neutral         \n",
      "627  @DFriesenGlobal Interesting that OMICRON is la...  Negative         \n",
      "644          @Naz_Blaugrana @Adithi30 Covid tax sadly.  Negative         \n",
      "671  Best COVID comment ever.\\nDon't miss it!\\n\\n#C...   Neutral         \n",
      "674  @dayslikethese She could totally kick COVID's ...  Positive         \n",
      "680  Oh my God we're all going to die now https://t...   Neutral         \n",
      "691  The new Omnicron COVID variant sounds like a D...   Neutral         \n",
      "701  @birgitomo @BNODesk What am I missing here? \\n...   Neutral         \n"
     ]
    }
   ],
   "source": [
    "print(len(df))\n",
    "print(len(df[df['category'] == '']), len(df[df['category'] == ''])*1050 / 738)\n",
    "print(df[df['category'] == ''])"
   ]
  },
  {
   "cell_type": "markdown",
   "id": "ffbc602b",
   "metadata": {},
   "source": [
    "# Do some checks"
   ]
  },
  {
   "cell_type": "code",
   "execution_count": 10,
   "id": "72897c68",
   "metadata": {},
   "outputs": [
    {
     "name": "stdout",
     "output_type": "stream",
     "text": [
      "Informative posts\n",
      "Critique and opinions\n",
      "Jokes and sarcasm\n"
     ]
    }
   ],
   "source": [
    "index = 527\n",
    "print(df_a.loc[index,'category'])\n",
    "print(df_l.loc[index,'category'])\n",
    "print(df_h.loc[index,'category'])"
   ]
  },
  {
   "cell_type": "code",
   "execution_count": 12,
   "id": "634e7b1f",
   "metadata": {},
   "outputs": [
    {
     "data": {
      "text/plain": [
       "22"
      ]
     },
     "execution_count": 12,
     "metadata": {},
     "output_type": "execute_result"
    }
   ],
   "source": [
    "# How many tweets will have to be annotated again by a vote\n",
    "\n",
    "len(df[df['category'] == ''])"
   ]
  },
  {
   "cell_type": "code",
   "execution_count": 13,
   "id": "ddcc54f1",
   "metadata": {},
   "outputs": [],
   "source": [
    "# save merged data into a new tsv file\n",
    "\n",
    "#df.to_csv('merged_data.tsv', sep='\\t')"
   ]
  },
  {
   "cell_type": "code",
   "execution_count": null,
   "id": "c4e5caa9",
   "metadata": {},
   "outputs": [],
   "source": []
  }
 ],
 "metadata": {
  "kernelspec": {
   "display_name": "Python 3 (ipykernel)",
   "language": "python",
   "name": "python3"
  },
  "language_info": {
   "codemirror_mode": {
    "name": "ipython",
    "version": 3
   },
   "file_extension": ".py",
   "mimetype": "text/x-python",
   "name": "python",
   "nbconvert_exporter": "python",
   "pygments_lexer": "ipython3",
   "version": "3.9.7"
  }
 },
 "nbformat": 4,
 "nbformat_minor": 5
}
